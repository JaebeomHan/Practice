{
 "cells": [
  {
   "cell_type": "code",
   "execution_count": 1,
   "metadata": {},
   "outputs": [
    {
     "name": "stdout",
     "output_type": "stream",
     "text": [
      "양의 정수를 입력960616\n",
      "616069\n",
      "28\n"
     ]
    }
   ],
   "source": [
    "\n",
    "while(True):\n",
    "    num = int(input(\"양의 정수를 입력\"))\n",
    "    if (0<num<2100000000):\n",
    "        break\n",
    "\n",
    "num_length = (len(str(num))-1)\n",
    "rev = []\n",
    "\n",
    "while num_length >= 0 :\n",
    "    res = num // 10**(num_length)\n",
    "    rev.append(res)\n",
    "    num = num - res * 10**(num_length)\n",
    "    num_length -= 1\n",
    "\n",
    "rev.reverse()\n",
    "\n",
    "if(rev[0]==2 and rev[1]==1):\n",
    "    print(\"결과값이 21억 이상임\")\n",
    "else:\n",
    "    for k in rev:\n",
    "        print(k,end='')\n",
    "    print()\n",
    "    print(sum(rev))"
   ]
  },
  {
   "cell_type": "code",
   "execution_count": null,
   "metadata": {},
   "outputs": [],
   "source": []
  }
 ],
 "metadata": {
  "kernelspec": {
   "display_name": "Python 3.8 : galaxy",
   "language": "python",
   "name": "sample"
  },
  "language_info": {
   "codemirror_mode": {
    "name": "ipython",
    "version": 3
   },
   "file_extension": ".py",
   "mimetype": "text/x-python",
   "name": "python",
   "nbconvert_exporter": "python",
   "pygments_lexer": "ipython3",
   "version": "3.9.1"
  }
 },
 "nbformat": 4,
 "nbformat_minor": 4
}
