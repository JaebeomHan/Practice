{
 "cells": [
  {
   "cell_type": "code",
   "execution_count": 2,
   "metadata": {},
   "outputs": [
    {
     "name": "stdout",
     "output_type": "stream",
     "text": [
      "높이를 입력하세요 : 3\n",
      "      \n",
      "    A \n",
      "  B D \n",
      "C E F \n"
     ]
    }
   ],
   "source": [
    "\n",
    "height = int(input(\"높이를 입력하세요 : \"))\n",
    "string = 0\n",
    "stringplus = 0\n",
    "\n",
    "for line_number in range(height+1):\n",
    "\n",
    "    for blank in range(height - line_number):\n",
    "        print(end=\"  \")  # 공백을 먼저 출력한다. 입력받은 높이에서 행 번호를 뺀 만큼.\n",
    "                         # 예를들면 3을 입력했으면 1행에서는 2의 공백 출력.\n",
    "\n",
    "    for stringplus in range(line_number):\n",
    "        print(chr((int(line_number)-1)%26+65), end=\" \")\n",
    "        line_number += height - stringplus -1\n",
    "\n",
    "    print('')"
   ]
  },
  {
   "cell_type": "code",
   "execution_count": 1,
   "metadata": {},
   "outputs": [
    {
     "name": "stdout",
     "output_type": "stream",
     "text": [
      "양의 정수를 입력 : 453\n",
      "354\n",
      "12\n",
      "양의 정수를 입력 : 123456\n",
      "654321\n",
      "21\n",
      "양의 정수를 입력 : 0\n",
      "0을 입력하면 종료\n"
     ]
    }
   ],
   "source": [
    "## 입력받은 수 거꾸로 뒤집는 함수\n",
    "def reverse_plz(num):\n",
    "\n",
    "    num_length = (len(str(num))-1)\n",
    "    rev = []   # rev 배열은 reverse의 약자로 입력된 숫자의 각 자릿수를 배열 형식으로 저장하는 공간입니다.\n",
    "\n",
    "    while num_length >= 0 :\n",
    "        res = num // 10**(num_length)  # res 변수는 int 형식으로 입력된 숫자를 자릿수별로 구해서 저장하는 공간입니다.\n",
    "        rev.append(res)  # rev 배열에 int 형식의 res 변수 값들이 들어갑니다.\n",
    "        num = num - res * 10**(num_length)\n",
    "        num_length -= 1\n",
    "\n",
    "    rev.reverse()\n",
    "    return rev\n",
    "\n",
    "## 결과값 21억 넘는지 검사하고 출력하는 함수\n",
    "def check_and_print(rev):\n",
    "\n",
    "    if(rev[0]==2 and rev[1]==1 and num>1000000000):\n",
    "        print(\"결과값이 21억 이상이라 출력 불가\")\n",
    "        print()\n",
    "    else:\n",
    "        for k in rev:\n",
    "            print(k,end='')\n",
    "        print()\n",
    "        print(sum(rev))\n",
    "\n",
    "while(True):\n",
    "    num = int(input(\"양의 정수를 입력 : \"))\n",
    "    if (num>2100000000):\n",
    "        print(\"21억 넘으면 안됨\")\n",
    "        break\n",
    "    if (num==0):\n",
    "        print(\"0을 입력하면 종료\")\n",
    "        break\n",
    "\n",
    "    check_and_print(reverse_plz(num))\n"
   ]
  },
  {
   "cell_type": "code",
   "execution_count": 1,
   "metadata": {},
   "outputs": [
    {
     "name": "stdout",
     "output_type": "stream",
     "text": [
      "아무 문장이나 입력 : I AM DOG DOG DOG DOG A AM I\n",
      "[ Sentence 1 ]\n",
      "A : 1\n",
      "AM : 2\n",
      "I : 2\n",
      "DOG : 4\n",
      "아무 문장이나 입력 : I AM OLYMPIAD JUNGOL JUNGOL OLYMPIAD\n",
      "[ Sentence 2 ]\n",
      "AM : 1\n",
      "I : 1\n",
      "JUNGOL : 2\n",
      "OLYMPIAD : 2\n",
      "아무 문장이나 입력 : END\n",
      "[ All Sentence ]\n",
      "A : 1\n",
      "JUNGOL : 2\n",
      "OLYMPIAD : 2\n",
      "AM : 3\n",
      "I : 3\n",
      "DOG : 4\n",
      "프로그램 종료\n"
     ]
    }
   ],
   "source": [
    "\n",
    "## 배열 만드는 함수\n",
    "def make_list(sentence):\n",
    "\n",
    "    length = len(sentence)\n",
    "    num = 0\n",
    "    list_result = []\n",
    "    while( length > 0 ):\n",
    "        result = [ (sentence[num]) , int(sentence.count(sentence[num])) ] # 각 단어의 개수 배열로 지정\n",
    "        list_result.append(result)\n",
    "        length -= 1\n",
    "        num += 1\n",
    "\n",
    "    new_list_result = []\n",
    "    for w in list_result:\n",
    "        if w not in new_list_result:\n",
    "            new_list_result.append(w)  # 중복되는 배열 제거\n",
    "    return new_list_result\n",
    "\n",
    "## 출력 담당하는 함수\n",
    "def order_print(new_list_result, message, count):\n",
    "\n",
    "    new_list_result.sort(key = lambda x:(x[1], x[0]))  # 순서 지정 (숫자로 오름차순)\n",
    "    if(sentence==[\"END\"]):\n",
    "        print(\"[ All Sentence ]\")\n",
    "    else:\n",
    "        print(\"[ {0} {1} ]\".format(message, count))\n",
    "   # print(\"[ Sentence %d ]\" % count)\n",
    "    for word in new_list_result:\n",
    "        print('{} : {}'.format(word[0], word[1]))\n",
    "\n",
    "## 여기부터가 본문\n",
    "total_sentence = []\n",
    "count_a = 1\n",
    "\n",
    "while True:\n",
    "    \n",
    "    sentence = input(str(\"아무 문장이나 입력 : \")).split()  # 최초 배열\n",
    "\n",
    "    if (sentence == [\"END\"]): # END 입력되면\n",
    "        break\n",
    "\n",
    "    else: # 정상 진행\n",
    "        message = \"Sentence\"\n",
    "        total_sentence += sentence\n",
    "        order_print(make_list(sentence), message, count_a)\n",
    "        count_a += 1\n",
    "\n",
    "# 위에서 했던 과정 똑같이 반복\n",
    "message = \"All Sentence\"\n",
    "order_print(make_list(total_sentence), message, count_a)\n",
    "\n",
    "print(\"프로그램 종료\")"
   ]
  },
  {
   "cell_type": "code",
   "execution_count": null,
   "metadata": {},
   "outputs": [],
   "source": []
  }
 ],
 "metadata": {
  "kernelspec": {
   "display_name": "Python 3",
   "language": "python",
   "name": "python3"
  },
  "language_info": {
   "codemirror_mode": {
    "name": "ipython",
    "version": 3
   },
   "file_extension": ".py",
   "mimetype": "text/x-python",
   "name": "python",
   "nbconvert_exporter": "python",
   "pygments_lexer": "ipython3",
   "version": "3.9.1"
  }
 },
 "nbformat": 4,
 "nbformat_minor": 4
}
