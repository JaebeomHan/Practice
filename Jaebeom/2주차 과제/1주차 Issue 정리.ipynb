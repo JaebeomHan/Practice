{
 "cells": [
  {
   "cell_type": "markdown",
   "metadata": {},
   "source": [
    "# 1주차 Issue \n",
    "==========\n",
    "\n",
    "### 1. Origin Push 오류\n",
    "\n",
    "\n",
    "* 문제 상황\n",
    "\n",
    "> git push origin 을 한 후에 unable to access 'URL 주소': The requested URL returned\n",
    "> error: 403\n",
    "\n",
    "* 코멘트\n",
    "\n",
    "> 사용자의 계정이 해당 GitHub 주소를 갖는 저장소에 접근할 권한이 없기 때문에 발생한 문제이다. \n",
    "> 저장소 주인의 초대를 받으면 해결되는 문제이다.\n",
    "> 아무나 함부로 저장소에 접근하는 문제를 막을 수 있다.\n",
    "\n",
    "\n",
    "### 2. 이미 push한 commit에 파일을 추가하는 과정에서 생긴 문제\n",
    "\n",
    "\n",
    "* 문제 상황\n",
    "\n",
    "> push를 진행했는데 실수로 누락한 파일이 존재함\n",
    "> 아직 Git의 시스템에 대해 잘 이해하지 못한 상황\n",
    "> -f 옵션의 잘못된 사용\n",
    "\n",
    "* 코멘트\n",
    "\n",
    "> 누락된 파일이 있다면 다시 그 파일을 add, commit하고 push하면 된다.\n",
    "> Git은 언제라도 파일을 추가하고 넣을 수 있기 때문에 익숙해져야 할 상황이라고 본다.\n",
    "> -f 옵션은 실제 상황에서 사용한다면 모두의 동의를 얻고 쓰는게 좋다.\n",
    "> commit log에 차이가 발생하면 push 하는데에 reject가 발생한다.\n",
    "> git pull을 통해 최신 정보를 유지하는 것이 필요해 보인다.\n",
    "\n",
    "\n",
    "### 3. Git Application에 관련된 질문 & 답변\n",
    "\n",
    "\n",
    "* 문제 상황\n",
    "\n",
    "> Git을 사용할 수 있는 많은 어플리케이션이 존재함\n",
    "\n",
    "* 코멘트\n",
    "\n",
    "> Git bash를 사용한다면 Linux 환경에 보다 더 친숙해질 수 있는 장점이 있다.\n",
    "> 다른 프로그램들도 장단점이 있기에 본인이 편한 걸 사용하되, 목적에 부합하는지 확인하는게 필요해 보인다."
   ]
  },
  {
   "cell_type": "code",
   "execution_count": null,
   "metadata": {},
   "outputs": [],
   "source": []
  }
 ],
 "metadata": {
  "kernelspec": {
   "display_name": "Python 3",
   "language": "python",
   "name": "python3"
  },
  "language_info": {
   "codemirror_mode": {
    "name": "ipython",
    "version": 3
   },
   "file_extension": ".py",
   "mimetype": "text/x-python",
   "name": "python",
   "nbconvert_exporter": "python",
   "pygments_lexer": "ipython3",
   "version": "3.9.1"
  }
 },
 "nbformat": 4,
 "nbformat_minor": 4
}
