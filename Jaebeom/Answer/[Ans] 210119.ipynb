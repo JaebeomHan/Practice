{
 "cells": [
  {
   "cell_type": "code",
   "execution_count": 7,
   "id": "increasing-configuration",
   "metadata": {},
   "outputs": [
    {
     "name": "stdout",
     "output_type": "stream",
     "text": [
      "첫번째 수 : 5\n",
      "두번째 수 : 2\n",
      "세번째 수 : 3\n",
      "중간 값 : 3\n"
     ]
    }
   ],
   "source": [
    "\n",
    "a = int(input(\"첫번째 수 : \"))\n",
    "b = int(input(\"두번째 수 : \"))\n",
    "c = int(input(\"세번째 수 : \"))\n",
    "\n",
    "list_abc = [a, b, c]\n",
    "list_abc.sort()\n",
    "\n",
    "print(\"{} : {}\".format(\"중간 값\",list_abc[1]))"
   ]
  },
  {
   "cell_type": "code",
   "execution_count": null,
   "id": "proprietary-bridges",
   "metadata": {},
   "outputs": [],
   "source": []
  }
 ],
 "metadata": {
  "kernelspec": {
   "display_name": "Python 3.8 : galaxy",
   "language": "python",
   "name": "sample"
  },
  "language_info": {
   "codemirror_mode": {
    "name": "ipython",
    "version": 3
   },
   "file_extension": ".py",
   "mimetype": "text/x-python",
   "name": "python",
   "nbconvert_exporter": "python",
   "pygments_lexer": "ipython3",
   "version": "3.9.1"
  }
 },
 "nbformat": 4,
 "nbformat_minor": 5
}
