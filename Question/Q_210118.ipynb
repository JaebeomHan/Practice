{
 "cells": [
  {
   "cell_type": "markdown",
   "metadata": {},
   "source": [
    "# 문제 1\n",
    "\n",
    "배열 [a, b, c, d]를 입력하면 배열[bcd, acd, abd, abc]를 출력하는 코드를 작성하시오.\n",
    "\n",
    "(단, 나눗셈 사용 금지)\n",
    "\n",
    "힌트 : 파이썬에서 배열을 선언하는 방법은 여러가지가 있습니다.<br>\n",
    "    a = list() 와 같이 빈 배열을 선언할 수도 있고, a = [1,2,3,4] 와 같이 바로 값을 대입할 수도 있습니다."
   ]
  },
  {
   "cell_type": "markdown",
   "metadata": {},
   "source": [
    "#  예시\n",
    "\n",
    "> ### <입력><br>\n",
    "5<br>\n",
    "4<br>\n",
    "3<br>\n",
    "2<br>\n",
    "\n",
    "> ### <출력><br>\n",
    "[24, 30, 60, 60]\n",
    "\n",
    "\n",
    "\n"
   ]
  },
  {
   "cell_type": "code",
   "execution_count": null,
   "metadata": {},
   "outputs": [],
   "source": []
  }
 ],
 "metadata": {
  "kernelspec": {
   "display_name": "Python 3.8 : galaxy",
   "language": "python",
   "name": "sample"
  },
  "language_info": {
   "codemirror_mode": {
    "name": "ipython",
    "version": 3
   },
   "file_extension": ".py",
   "mimetype": "text/x-python",
   "name": "python",
   "nbconvert_exporter": "python",
   "pygments_lexer": "ipython3",
   "version": "3.9.1"
  }
 },
 "nbformat": 4,
 "nbformat_minor": 4
}
