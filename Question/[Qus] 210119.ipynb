{
 "cells": [
  {
   "cell_type": "markdown",
   "id": "gorgeous-fireplace",
   "metadata": {},
   "source": [
    "## 어느 숫자가 중간값을 가지는 숫자일까?\n",
    "\n",
    "<br>\n",
    "\n",
    "3개의 숫자를 입력으로 받고 3개의 숫자 중에 중간값을 가지는 숫자를 출력하세요. ex1) 2, 5, 3 => 3 ex2) 4, 6, 4 => 4"
   ]
  },
  {
   "cell_type": "code",
   "execution_count": null,
   "id": "moral-gross",
   "metadata": {},
   "outputs": [],
   "source": []
  }
 ],
 "metadata": {
  "kernelspec": {
   "display_name": "Python 3.8 : galaxy",
   "language": "python",
   "name": "sample"
  },
  "language_info": {
   "codemirror_mode": {
    "name": "ipython",
    "version": 3
   },
   "file_extension": ".py",
   "mimetype": "text/x-python",
   "name": "python",
   "nbconvert_exporter": "python",
   "pygments_lexer": "ipython3",
   "version": "3.9.1"
  }
 },
 "nbformat": 4,
 "nbformat_minor": 5
}
