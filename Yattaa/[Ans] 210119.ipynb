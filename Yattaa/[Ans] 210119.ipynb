{
 "cells": [
  {
   "cell_type": "code",
   "execution_count": 13,
   "metadata": {},
   "outputs": [
    {
     "name": "stdout",
     "output_type": "stream",
     "text": [
      "값을 입력하세요: 5 6 8\n",
      "6\n"
     ]
    }
   ],
   "source": [
    "a,b,c=input(\"값을 입력하세요: \").split()\n",
    "\n",
    "a=int(a)\n",
    "b=int(b)\n",
    "c=int(c)\n",
    "\n",
    "list_abc=[a,b,c]\n",
    "\n",
    "sum=0\n",
    "max=0\n",
    "min=100\n",
    "\n",
    "for i in range(0,len(list_abc)):\n",
    "    if list_abc[i]<min:\n",
    "        min=list_abc[i]\n",
    "    if list_abc[i]>max:\n",
    "        max=list_abc[i]\n",
    "    sum+=list_abc[i]\n",
    "\n",
    "result=sum-max-min\n",
    "\n",
    "print(result)"
   ]
  },
  {
   "cell_type": "code",
   "execution_count": null,
   "metadata": {},
   "outputs": [],
   "source": []
  }
 ],
 "metadata": {
  "kernelspec": {
   "display_name": "Python 3.8 : Yattaa",
   "language": "python",
   "name": "yattaa"
  },
  "language_info": {
   "codemirror_mode": {
    "name": "ipython",
    "version": 3
   },
   "file_extension": ".py",
   "mimetype": "text/x-python",
   "name": "python",
   "nbconvert_exporter": "python",
   "pygments_lexer": "ipython3",
   "version": "3.9.1"
  }
 },
 "nbformat": 4,
 "nbformat_minor": 4
}
